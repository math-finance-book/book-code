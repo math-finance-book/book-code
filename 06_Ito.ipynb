{
  "cells": [
    {
      "cell_type": "code",
      "metadata": {},
      "source": [
        "\n",
        "import numpy as np \n",
        "import plotly.graph_objects as go \n",
        "fig = go.Figure()\n",
        "fig.update_layout(\n",
        "    xaxis_title='Time',\n",
        "    yaxis_title='Binomial Process',\n",
        "    template='plotly_white',\n",
        "    height=300,\n",
        ")\n",
        "fig.show()"
      ],
      "execution_count": null,
      "outputs": []
    },
    {
      "cell_type": "code",
      "metadata": {},
      "source": [
        "\n",
        "import numpy as np \n",
        "import plotly.graph_objects as go \n",
        "fig = go.Figure()\n",
        "fig.update_layout(\n",
        "    xaxis_title='Time',\n",
        "    yaxis_title='Binomial Process',\n",
        "    template='plotly_white',\n",
        "    height=300,\n",
        ")\n",
        "fig.show()"
      ],
      "execution_count": null,
      "outputs": []
    }
  ],
  "metadata": {
    "kernelspec": {
      "name": "python3",
      "language": "python",
      "display_name": "Python 3 (ipykernel)",
      "path": "C:\\Users\\kerry\\AppData\\Local\\Programs\\Python\\Python313\\share\\jupyter\\kernels\\python3"
    }
  },
  "nbformat": 4,
  "nbformat_minor": 4
}