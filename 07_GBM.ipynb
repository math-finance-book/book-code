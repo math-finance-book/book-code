{
  "cells": [
    {
      "cell_type": "markdown",
      "metadata": {},
      "source": [
        "---\n",
        "\n",
        "Created for [Pricing and Hedging Derivative Securities: Theory and Methods](https://book.derivative-securities.org/)\n",
        "\n",
        "Authored by\n",
        "- Kerry Back, Rice University\n",
        "- Hong Liu, Washington University in St. Louis\n",
        "- Mark Loewenstein, University of Maryland\n",
        " \n",
        "---\n",
        "\n",
        "<a target=\"_blank\" href=\"https://colab.research.google.com/github/math-finance-book/book-code/blob/main/07_GBM.ipynb\">\n",
        "  <img src=\"https://colab.research.google.com/assets/colab-badge.svg\" alt=\"Open In Colab\"/>\n",
        "</a>"
      ]
    },
    {
      "cell_type": "markdown",
      "metadata": {},
      "source": [
        "![](https://www.dropbox.com/scl/fi/6hwvdff7ajaafmkpmnp0o/under_construction.jpg?rlkey=3dex2dx86anniqoutwyqashnu&dl=1)\n"
      ]
    },
    {
      "cell_type": "code",
      "metadata": {},
      "source": [
        "\"\"\"\n",
        "# Simulate geometric Brownian motion\n",
        "import numpy as np\n",
        "import matplotlib.pyplot as plt\n",
        "# number of paths\n",
        "n = 10000\n",
        "#number of divisions\n",
        "m = 1000\n",
        "# Interest rate (We set the drift equal to the interest rate)\n",
        "r = 0.1\n",
        "# Volatility\n",
        "sig = 0.2\n",
        "# Initial Stock Price\n",
        "S0 = 42\n",
        "# Maturity\n",
        "T = 0.5\n",
        "# Delta t\n",
        "dt = T/m\n",
        "# Drift\n",
        "drift = (r-0.5*sig**2)\n",
        "# Volatility\n",
        "vol = sig * np.sqrt(dt)\n",
        "\n",
        "t = np.array(range(0,m + 1,1)) * dt\n",
        "\n",
        "# seed for random generator\n",
        "seed= 2020\n",
        "# define a random generator\n",
        "np.random.seed(seed)\n",
        "inc = np.zeros(shape = (m + 1, n))\n",
        "inc[1:] = np.transpose(np.random.normal(loc = 0, scale = vol,size = (n,m)))\n",
        "St = np.zeros(shape = (m + 1, n))\n",
        "St = S0 * np.exp(np.cumsum(inc,axis=0) + (drift * t[0:m + 1])[:,None])\n",
        "St1 = S0 * np.exp(-np.cumsum(inc,axis=0) + (drift * t[0:m + 1])[:,None])\n",
        "plt.figure(figsize=(9,6))\n",
        "plt.plot(t,St[:,1])\n",
        "\"\"\"\n"
      ],
      "execution_count": null,
      "outputs": []
    },
    {
      "cell_type": "code",
      "metadata": {},
      "source": [
        "\"\"\"\n",
        "plt.figure(figsize=(9,6))\n",
        "a=plt.hist(St[m,:], bins=100)\n",
        "\"\"\""
      ],
      "execution_count": null,
      "outputs": []
    }
  ],
  "metadata": {
    "kernelspec": {
      "name": "python3",
      "language": "python",
      "display_name": "Python 3 (ipykernel)",
      "path": "C:\\Users\\kerry\\AppData\\Local\\Programs\\Python\\Python313\\share\\jupyter\\kernels\\python3"
    }
  },
  "nbformat": 4,
  "nbformat_minor": 4
}