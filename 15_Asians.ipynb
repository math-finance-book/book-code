{
  "cells": [
    {
      "cell_type": "code",
      "metadata": {},
      "source": [
        "\"\"\"\n",
        "def discrete_geom_average_price_call(S, K, r, sigma, q, T, N):\n",
        "    dt = T / N\n",
        "    nu = r - q - 0.5 * sigma ** 2\n",
        "    a = N * (N + 1) * (2 * N + 1) / 6\n",
        "    V = np.exp(-r * T) * S * np.exp(((N + 1) * nu / 2 + sigma ** 2 * a / (2 * N ** 2)) * dt)\n",
        "    sigavg = sigma * np.sqrt(a) / (N ** 1.5)\n",
        "    return black_scholes_call(V, K, r, sigavg, q, T)\n",
        "\n",
        "print(\"Discrete Geometric Average Price Call:\", discrete_geom_average_price_call(S, K, r, sigma, q, T, N))\n",
        "\"\"\""
      ],
      "execution_count": null,
      "outputs": []
    }
  ],
  "metadata": {
    "kernelspec": {
      "name": "python3",
      "language": "python",
      "display_name": "Python 3 (ipykernel)",
      "path": "C:\\Users\\kerry\\AppData\\Local\\Programs\\Python\\Python313\\share\\jupyter\\kernels\\python3"
    }
  },
  "nbformat": 4,
  "nbformat_minor": 4
}