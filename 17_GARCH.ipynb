{
  "cells": [
    {
      "cell_type": "markdown",
      "metadata": {},
      "source": [
        "---\n",
        "\n",
        "Created for [Pricing and Hedging Derivative Securities: Theory and Methods](https://book.derivative-securities.org/)\n",
        "\n",
        "Authored by\n",
        "- Kerry Back, Rice University\n",
        "- Hong Liu, Washington University in St. Louis\n",
        "- Mark Loewenstein, University of Maryland\n",
        " \n",
        "---\n",
        "\n",
        "<a target=\"_blank\" href=\"https://colab.research.google.com/github/math-finance-book/book-code/blob/main/17_GARCH.ipynb\">\n",
        "  <img src=\"https://colab.research.google.com/assets/colab-badge.svg\" alt=\"Open In Colab\"/>\n",
        "</a>"
      ]
    },
    {
      "cell_type": "markdown",
      "metadata": {},
      "source": [
        "![](https://www.dropbox.com/scl/fi/6hwvdff7ajaafmkpmnp0o/under_construction.jpg?rlkey=3dex2dx86anniqoutwyqashnu&dl=1)\n"
      ]
    },
    {
      "cell_type": "code",
      "metadata": {},
      "source": [
        "import numpy as np\n",
        "import pandas as pd\n",
        "\n",
        "def simulating_garch(S, sigma, r, q, dt, N, theta, kappa, lambd):\n",
        "    \"\"\"\n",
        "    Inputs:\n",
        "    S = initial stock price\n",
        "    sigma = initial volatility\n",
        "    r = risk-free rate\n",
        "    q = dividend yield\n",
        "    dt = length of each time period (Delta t)\n",
        "    N = number of time periods\n",
        "    theta = theta parameter for GARCH\n",
        "    kappa = kappa parameter for GARCH\n",
        "    lambd = lambda parameter for GARCH\n",
        "    \"\"\"\n",
        "    LogS = np.log(S)\n",
        "    Sqrdt = np.sqrt(dt)\n",
        "    a = kappa * theta\n",
        "    b = (1 - kappa) * (1 - lambd)\n",
        "    c = (1 - kappa) * lambd\n",
        "    \n",
        "    time = np.zeros(N + 1)\n",
        "    stock_price = np.zeros(N + 1)\n",
        "    volatility = np.zeros(N + 1)\n",
        "    \n",
        "    stock_price[0] = S\n",
        "    volatility[0] = sigma    \n",
        "    \n",
        "    for i in range(1, N + 1):\n",
        "        time[i] = i * dt\n",
        "        y = sigma * np.random.randn()\n",
        "        LogS = LogS + (r - q - 0.5 * sigma * sigma) * dt + Sqrdt * y\n",
        "        S = np.exp(LogS)\n",
        "        stock_price[i] = S\n",
        "        sigma = np.sqrt(a + b * y ** 2 + c * sigma ** 2)\n",
        "        volatility[i] = sigma\n",
        "\n",
        "    df_garch = pd.DataFrame({'Time': time, 'Stock Price': stock_price, 'Volatility': volatility})\n",
        "    df_garch.to_csv('garch_simulation.csv', index=False)\n",
        "    return df_garch\n",
        "\n",
        "# Example usage:\n",
        "S = 100       # Initial stock price\n",
        "sigma = 0.2   # Initial volatility\n",
        "r = 0.05      # Risk-free rate\n",
        "q = 0.02      # Dividend yield\n",
        "dt = 1/252    # Length of each time period (daily)\n",
        "N = 252       # Number of time periods (one year)\n",
        "theta = 0.1   # Theta parameter for GARCH\n",
        "kappa = 0.1   # Kappa parameter for GARCH\n",
        "lambd = 0.9   # Lambda parameter for GARCH\n",
        "\n",
        "df_garch = simulating_garch(S, sigma, r, q, dt, N, theta, kappa, lambd)\n",
        "print(df_garch)"
      ],
      "execution_count": null,
      "outputs": []
    }
  ],
  "metadata": {
    "kernelspec": {
      "name": "python3",
      "language": "python",
      "display_name": "Python 3 (ipykernel)",
      "path": "C:\\Users\\kerry\\AppData\\Local\\Programs\\Python\\Python313\\share\\jupyter\\kernels\\python3"
    }
  },
  "nbformat": 4,
  "nbformat_minor": 4
}