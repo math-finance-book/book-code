{
  "cells": [
    {
      "cell_type": "markdown",
      "metadata": {},
      "source": [
        "---\n",
        "\n",
        "Created for [Pricing and Hedging Derivative Securities: Theory and Methods](https://book.derivative-securities.org/)\n",
        "\n",
        "Authored by\n",
        "- Kerry Back, Rice University\n",
        "- Hong Liu, Washington University in St. Louis\n",
        "- Mark Loewenstein, University of Maryland\n",
        " \n",
        "---\n",
        "\n",
        "<a target=\"_blank\" href=\"https://colab.research.google.com/github/math-finance-book/book-code/blob/main/19_VarianceSwaps.ipynb\">\n",
        "  <img src=\"https://colab.research.google.com/assets/colab-badge.svg\" alt=\"Open In Colab\"/>\n",
        "</a>"
      ]
    },
    {
      "cell_type": "markdown",
      "metadata": {},
      "source": [
        "<img src=\"https://www.dropbox.com/scl/fi/6hwvdff7ajaafmkpmnp0o/under_construction.jpg?rlkey=3dex2dx86anniqoutwyqashnu&dl=1\" alt=\"Under Construction\" width=\"400\"/>\n"
      ]
    },
    {
      "cell_type": "code",
      "metadata": {},
      "source": [
        "\n",
        "\n",
        "import numpy as np\n",
        "import pandas as pd\n",
        "from scipy.interpolate import interp1d\n",
        "from scipy.stats import norm\n",
        "import yfinance as yf\n",
        "\n",
        "def indicator_function(condition):\n",
        "    return 1 if condition else 0\n",
        "\n",
        "def calculate_variance_swap_strike(S, r, T, options_data):\n",
        "    # Extract call and put prices\n",
        "    call_data = options_data[options_data['Type'] == 'call'].copy()\n",
        "    put_data = options_data[options_data['Type'] == 'put'].copy()\n",
        "    \n",
        "    # Interpolate call and put prices\n",
        "    strikes = np.unique(options_data['Strike'])\n",
        "    call_interp = interp1d(call_data['Strike'], call_data['Price'], fill_value=\"extrapolate\")\n",
        "    put_interp = interp1d(put_data['Strike'], put_data['Price'], fill_value=\"extrapolate\")\n",
        "    \n",
        "    # Integrate using numerical methods (trapezoidal rule)\n",
        "    \n",
        "    K_min, K_max = strikes.min(), strikes.max()\n",
        "    K = np.linspace(K_min, S*np.exp(r*T), 500)\n",
        "    integral1 = np.trapezoid(put_interp(K) / K**2, K)\n",
        "    K = np.linspace(S*np.exp(r*T),K_max, 500)\n",
        "    integral2 = np.trapezoid(call_interp(K) / K**2, K)\n",
        "    \n",
        "    # Calculate the variance swap strike\n",
        "    variance_swap_strike = np.sqrt(2 * (integral1+integral2) / T)\n",
        "    return variance_swap_strike\n",
        "\n",
        "# Example usage\n",
        "ticker = \"AAPL\"\n",
        "S = 150.0  # Current stock price\n",
        "r = 0.01  # Risk-free rate\n",
        "T = 0.5  # Time to maturity (6 months)\n",
        "\n",
        "# Fetch options data from Yahoo Finance\n",
        "stock = yf.Ticker(ticker)\n",
        "expiry = stock.options[0]\n",
        "opt_chain = stock.option_chain(expiry)\n",
        "calls = opt_chain.calls[['strike', 'lastPrice']].copy()\n",
        "puts = opt_chain.puts[['strike', 'lastPrice']].copy()\n",
        "calls.columns = ['Strike', 'Price']\n",
        "puts.columns = ['Strike', 'Price']\n",
        "calls['Type'] = 'call'\n",
        "puts['Type'] = 'put'\n",
        "options_data = pd.concat([calls, puts])\n",
        "\n",
        "# Calculate the variance swap strike\n",
        "variance_swap_strike = calculate_variance_swap_strike(S, r, T, options_data)\n",
        "print(f\"Variance Swap Strike: {variance_swap_strike:.4f}\")"
      ],
      "execution_count": null,
      "outputs": []
    }
  ],
  "metadata": {
    "kernelspec": {
      "name": "python3",
      "language": "python",
      "display_name": "Python 3 (ipykernel)",
      "path": "C:\\Users\\kerry\\AppData\\Local\\Programs\\Python\\Python313\\share\\jupyter\\kernels\\python3"
    }
  },
  "nbformat": 4,
  "nbformat_minor": 4
}