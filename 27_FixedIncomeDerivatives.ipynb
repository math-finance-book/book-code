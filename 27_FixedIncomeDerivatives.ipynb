{
  "cells": [
    {
      "cell_type": "markdown",
      "metadata": {},
      "source": [
        "---\n",
        "\n",
        "Created for [Pricing and Hedging Derivative Securities: Theory and Methods](https://book.derivative-securities.org/)\n",
        "\n",
        "Authored by\n",
        "- Kerry Back, Rice University\n",
        "- Hong Liu, Washington University in St. Louis\n",
        "- Mark Loewenstein, University of Maryland\n",
        " \n",
        "---\n",
        "\n",
        "<a target=\"_blank\" href=\"https://colab.research.google.com/github/math-finance-book/book-code/blob/main/27_FixedIncomeDerivatives.ipynb\">\n",
        "  <img src=\"https://colab.research.google.com/assets/colab-badge.svg\" alt=\"Open In Colab\"/>\n",
        "</a>"
      ]
    },
    {
      "cell_type": "markdown",
      "metadata": {},
      "source": [
        "<img src=\"https://www.dropbox.com/scl/fi/6hwvdff7ajaafmkpmnp0o/under_construction.jpg?rlkey=3dex2dx86anniqoutwyqashnu&dl=1\" alt=\"Under Construction\" width=\"500\"/>\n"
      ]
    },
    {
      "cell_type": "code",
      "metadata": {},
      "source": [
        "\n",
        "\n",
        "\n",
        "import numpy as np\n",
        "from scipy.stats import norm\n",
        "\n",
        "def black_call(F, K, P, sigma, T):\n",
        "    d1 = (np.log(F / K) + 0.5 * sigma ** 2 * T) / (sigma * np.sqrt(T))\n",
        "    d2 = d1 - sigma * np.sqrt(T)\n",
        "    return P * (F * norm.cdf(d1) - K * norm.cdf(d2))\n",
        "\n",
        "def market_model_cap(P0, P, rbar, sigma, N, t0, dt):\n",
        "    K = rbar * dt\n",
        "    if t0 == 0:\n",
        "        return P[0] * max(0, 1 / P[0] - 1 - rbar * dt)\n",
        "    else:\n",
        "        F = P0 / P[0] - 1\n",
        "        cap_value = black_call(F, K, P[0], sigma, t0)\n",
        "    \n",
        "    for i in range(1, N):\n",
        "        F = P[i - 1] / P[i] - 1\n",
        "        cap_value += black_call(F, K, P[i], sigma, t0 + i * dt)\n",
        "    \n",
        "    return cap_value\n",
        "\n",
        "# Example usage\n",
        "P0 = 0.95\n",
        "P = [0.92, 0.89, 0.85, 0.80]\n",
        "rbar = 0.03\n",
        "sigma = 0.2\n",
        "N = 4\n",
        "t0 = 0.5\n",
        "dt = 0.5\n",
        "T = 2\n",
        "\n",
        "print(\"Market Model Cap:\", market_model_cap(P0, P, rbar, sigma, N, t0, dt))"
      ],
      "execution_count": null,
      "outputs": []
    },
    {
      "cell_type": "code",
      "metadata": {},
      "source": [
        "\n",
        "\n",
        "def margrabe(S1, S2, sigma, q1, q2, T):\n",
        "    sigma2 = sigma ** 2 * T\n",
        "    d1 = (np.log(S1 / S2) + 0.5 * sigma2) / np.sqrt(sigma2)\n",
        "    d2 = d1 - np.sqrt(sigma2)\n",
        "    return S1 * norm.cdf(d1) - S2 * norm.cdf(d2)\n",
        "\n",
        "def market_model_payer_swaption(P0, P, rbar, sigma, N, T, dt):\n",
        "    floating_leg_value = P0 - P[N - 1]\n",
        "    fixed_leg_value = P[0]\n",
        "    for i in range(1, N):\n",
        "        fixed_leg_value += P[i]\n",
        "    fixed_leg_value *= rbar * dt\n",
        "    \n",
        "    return margrabe(floating_leg_value, fixed_leg_value, sigma, 0, 0, T)\n",
        "\n",
        "\n",
        "# Example usage\n",
        "P0 = 0.95\n",
        "P = [0.92, 0.89, 0.85, 0.80]\n",
        "rbar = 0.03\n",
        "sigma = 0.2\n",
        "N = 4\n",
        "t0 = 0.5\n",
        "dt = 0.5\n",
        "T = 2\n",
        "\n",
        "print(\"Market Model Payer Swaption:\", market_model_payer_swaption(P0, P, rbar, sigma, N, T, dt))"
      ],
      "execution_count": null,
      "outputs": []
    }
  ],
  "metadata": {
    "kernelspec": {
      "name": "python3",
      "language": "python",
      "display_name": "Python 3 (ipykernel)",
      "path": "C:\\Users\\kerry\\AppData\\Local\\Programs\\Python\\Python313\\share\\jupyter\\kernels\\python3"
    }
  },
  "nbformat": 4,
  "nbformat_minor": 4
}