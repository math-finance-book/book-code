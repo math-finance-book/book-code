{
 "cells": [
  {
   "cell_type": "markdown",
   "metadata": {},
   "source": [
    "---\n",
    "\n",
    "Created for [Pricing and Hedging Derivative Securities: Theory and Methods](https://book.derivative-securities.org/)\n",
    "    \n",
    "Authored by\n",
    "- Kerry Back, Rice University\n",
    "- Steven L. Heston, University of Maryland\n",
    "- Hong Liu, Washington University in St. Louis\n",
    "- Mark Loewenstein, University of Maryland\n",
    " \n",
    "---\n",
    "\n",
    "<a target=\"_blank\" href=\"https://colab.research.google.com/github/math-finance-book/book-code/blob/main/template.ipynb\">\n",
    "  <img src=\"https://colab.research.google.com/assets/colab-badge.svg\" alt=\"Open In Colab\"/>\n",
    "</a>"
   ]
  }
 ],
 "metadata": {
  "language_info": {
   "name": "python"
  }
 },
 "nbformat": 4,
 "nbformat_minor": 2
}
